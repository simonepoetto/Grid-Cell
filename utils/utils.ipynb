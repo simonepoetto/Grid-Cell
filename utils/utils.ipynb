{
 "cells": [
  {
   "cell_type": "markdown",
   "metadata": {},
   "source": [
    "# Save persistence diagram"
   ]
  },
  {
   "cell_type": "code",
   "execution_count": null,
   "metadata": {},
   "outputs": [],
   "source": [
    "for i in range(len(activations)):\n",
    "    dgm = lower_star_img(-activations[i])\n",
    "    fig = plt.figure(figsize=(10, 5));\n",
    "    plt.subplot(121)\n",
    "    plt.imshow(activations[i]);\n",
    "    plt.title(\"score = \"+str(scores[i]))\n",
    "    plt.subplot(122)\n",
    "    plot_diagrams(dgm, legend=False);\n",
    "    plt.title(\"0-D Persistence Diagram\")\n",
    "    plt.savefig('data/pd3/pd%s'%i);\n",
    "    plt.close(fig)"
   ]
  },
  {
   "cell_type": "markdown",
   "metadata": {},
   "source": [
    "# Convert dgms from giotto to sktda"
   ]
  },
  {
   "cell_type": "code",
   "execution_count": 28,
   "metadata": {},
   "outputs": [],
   "source": [
    "dgm = np.array(\n",
    "    [[[1,2,0],\n",
    "    [1.1,2.5,0],\n",
    "    [0.5,2.2,0],\n",
    "    [0.5,1.9,1],\n",
    "    [0.9,2.3,1]],\n",
    "    [[1,2,0],\n",
    "    [1.1,2.5,0],\n",
    "    [0.5,2.2,0],\n",
    "    [0.5,1.9,1],\n",
    "    [0.9,2.3,1]]]\n",
    "    )"
   ]
  },
  {
   "cell_type": "code",
   "execution_count": 34,
   "metadata": {},
   "outputs": [],
   "source": [
    "dgmskt = [[None]*2]*(len(dgm))\n",
    "#transform diagram from giotto to scikittda\n",
    "for i in range(len(dgm)):\n",
    "    for j in list(set(dgm[i,:,2])):\n",
    "        dgmskt[i][int(j)]=(((dgm[i,np.where(dgm[i,:,2]==j),:2]).reshape(-1,2)))"
   ]
  }
 ],
 "metadata": {
  "kernelspec": {
   "display_name": "Python 3",
   "language": "python",
   "name": "python3"
  },
  "language_info": {
   "codemirror_mode": {
    "name": "ipython",
    "version": 3
   },
   "file_extension": ".py",
   "mimetype": "text/x-python",
   "name": "python",
   "nbconvert_exporter": "python",
   "pygments_lexer": "ipython3",
   "version": "3.7.6"
  }
 },
 "nbformat": 4,
 "nbformat_minor": 4
}
