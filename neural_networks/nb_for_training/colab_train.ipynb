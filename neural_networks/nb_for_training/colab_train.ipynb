{
 "cells": [
  {
   "cell_type": "code",
   "execution_count": 1,
   "metadata": {
    "colab": {
     "base_uri": "https://localhost:8080/",
     "height": 34
    },
    "colab_type": "code",
    "executionInfo": {
     "elapsed": 3242,
     "status": "ok",
     "timestamp": 1588247324711,
     "user": {
      "displayName": "Simone Poetto",
      "photoUrl": "",
      "userId": "06168543570540460606"
     },
     "user_tz": -120
    },
    "id": "hSRsy6sxOk3c",
    "outputId": "a3ae20f2-efd6-4f9d-dc73-ecb051873070"
   },
   "outputs": [
    {
     "name": "stdout",
     "output_type": "stream",
     "text": [
      "Found GPU at: /device:GPU:0\n"
     ]
    }
   ],
   "source": [
    "%tensorflow_version 2.x\n",
    "import tensorflow as tf\n",
    "device_name = tf.test.gpu_device_name()\n",
    "#if device_name != '/device:GPU:0':\n",
    "  #raise SystemError('GPU device not found')\n",
    "print('Found GPU at: {}'.format(device_name))\n",
    "\n",
    "import numpy as np\n",
    "import sys\n",
    "\n",
    "from tqdm import tqdm_notebook as tqdm\n",
    "from matplotlib import pyplot as plt"
   ]
  },
  {
   "cell_type": "code",
   "execution_count": null,
   "metadata": {
    "colab": {},
    "colab_type": "code",
    "id": "R7Aj_EPCPG4H"
   },
   "outputs": [],
   "source": [
    "syspath = '/content/drive/My Drive/Gridcell/klein'\n",
    "if syspath not in sys.path:\n",
    "    sys.path.append(syspath)\n",
    "#sys.path"
   ]
  },
  {
   "cell_type": "code",
   "execution_count": null,
   "metadata": {
    "colab": {},
    "colab_type": "code",
    "id": "N3TItwX1OhkT"
   },
   "outputs": [],
   "source": [
    "from utils import generate_run_ID, load_trained_weights\n",
    "from place_cells import PlaceCells\n",
    "from trajectory_generator import TrajectoryGenerator\n",
    "from model import RNN, LSTM\n",
    "from trainer import Trainer"
   ]
  },
  {
   "cell_type": "code",
   "execution_count": null,
   "metadata": {
    "colab": {},
    "colab_type": "code",
    "id": "6IoqSbN4OhkY"
   },
   "outputs": [],
   "source": [
    "# Training options and hyperparameters\n",
    "class Options:\n",
    "    pass\n",
    "options = Options()\n",
    "\n",
    "options.save_dir = '/content/drive/My Drive/Gridcell/klein/models'\n",
    "options.n_epochs = 100          # number of training epochs\n",
    "options.n_steps = 10000        # batches per epoch\n",
    "options.batch_size = 200      # number of trajectories per batch\n",
    "options.sequence_length = 50  # number of steps in trajectory\n",
    "options.learning_rate = 1e-4  # gradient descent learning rate\n",
    "options.Np = 512              # number of place cells\n",
    "options.Ng = 512             # number of grid cells\n",
    "options.place_cell_rf = 0.12  # width of place cell center tuning curve (m)\n",
    "options.surround_scale = 2    # if DoG, ratio of sigma2^2 to sigma1^2\n",
    "options.RNN_type = 'RNN'      # RNN or LSTM\n",
    "options.activation = 'relu'   # recurrent nonlinearity\n",
    "options.weight_decay = 1e-4   # strength of weight decay on recurrent weights\n",
    "options.DoG = True            # use difference of gaussians tuning curves\n",
    "options.topology = 'klein'    # plane, torus or klein\n",
    "options.box_width = 2.2       # width of training environment\n",
    "options.box_height = 2.2      # height of training environment\n",
    "\n",
    "options.run_ID = generate_run_ID(options)"
   ]
  },
  {
   "cell_type": "code",
   "execution_count": 5,
   "metadata": {
    "colab": {
     "base_uri": "https://localhost:8080/",
     "height": 34
    },
    "colab_type": "code",
    "executionInfo": {
     "elapsed": 1128,
     "status": "ok",
     "timestamp": 1588247378099,
     "user": {
      "displayName": "Simone Poetto",
      "photoUrl": "",
      "userId": "06168543570540460606"
     },
     "user_tz": -120
    },
    "id": "BhROmx9wOhkc",
    "outputId": "1a07ad95-edd2-4824-d4e5-fe7561b04cf4"
   },
   "outputs": [
    {
     "name": "stdout",
     "output_type": "stream",
     "text": [
      "Initializing new model from scratch.\n"
     ]
    }
   ],
   "source": [
    "# If you've trained with these params before, will restore trained model\n",
    "place_cells = PlaceCells(options)\n",
    "model = RNN(options, place_cells)\n",
    "trajectory_generator = TrajectoryGenerator(options, place_cells)\n",
    "trainer = Trainer(options, model, trajectory_generator)"
   ]
  },
  {
   "cell_type": "code",
   "execution_count": 6,
   "metadata": {
    "colab": {
     "base_uri": "https://localhost:8080/",
     "referenced_widgets": [
      "24cc571ddba04d5db1b26b19f0557652"
     ]
    },
    "colab_type": "code",
    "executionInfo": {
     "elapsed": 7713131,
     "status": "ok",
     "timestamp": 1588262821695,
     "user": {
      "displayName": "Simone Poetto",
      "photoUrl": "",
      "userId": "06168543570540460606"
     },
     "user_tz": -120
    },
    "id": "wQtlwIwJOhkx",
    "outputId": "32ab8dff-7b38-4d61-8a00-20c68e971326"
   },
   "outputs": [
    {
     "data": {
      "application/vnd.jupyter.widget-view+json": {
       "model_id": "24cc571ddba04d5db1b26b19f0557652",
       "version_major": 2,
       "version_minor": 0
      },
      "text/plain": [
       "HBox(children=(IntProgress(value=0, max=10), HTML(value='')))"
      ]
     },
     "metadata": {
      "tags": []
     },
     "output_type": "display_data"
    },
    {
     "data": {
      "application/vnd.jupyter.widget-view+json": {
       "model_id": "a82f57a6893948b4b7d4d894f9d43673",
       "version_major": 2,
       "version_minor": 0
      },
      "text/plain": [
       "HBox(children=(IntProgress(value=0, max=10000), HTML(value='')))"
      ]
     },
     "metadata": {
      "tags": []
     },
     "output_type": "display_data"
    },
    {
     "name": "stdout",
     "output_type": "stream",
     "text": [
      "WARNING:tensorflow:Layer encoder is casting an input tensor from dtype float64 to the layer's dtype of float32, which is new behavior in TensorFlow 2.  The layer has dtype float32 because it's dtype defaults to floatx.\n",
      "\n",
      "If you intended to run this layer in float32, you can safely ignore this warning. If in doubt, this warning is likely only an issue if you are porting a TensorFlow 1.X model to TensorFlow 2.\n",
      "\n",
      "To change all layers to have dtype float64 by default, call `tf.keras.backend.set_floatx('float64')`. To change just this layer, pass dtype='float64' to the layer constructor. If you are the author of this layer, you can disable autocasting by passing autocast=False to the base Layer constructor.\n",
      "\n",
      "WARNING:tensorflow:Layer RNN is casting an input tensor from dtype float64 to the layer's dtype of float32, which is new behavior in TensorFlow 2.  The layer has dtype float32 because it's dtype defaults to floatx.\n",
      "\n",
      "If you intended to run this layer in float32, you can safely ignore this warning. If in doubt, this warning is likely only an issue if you are porting a TensorFlow 1.X model to TensorFlow 2.\n",
      "\n",
      "To change all layers to have dtype float64 by default, call `tf.keras.backend.set_floatx('float64')`. To change just this layer, pass dtype='float64' to the layer constructor. If you are the author of this layer, you can disable autocasting by passing autocast=False to the base Layer constructor.\n",
      "\n"
     ]
    },
    {
     "data": {
      "application/vnd.jupyter.widget-view+json": {
       "model_id": "56c3d254fde1428b9f78dea1f2a9b169",
       "version_major": 2,
       "version_minor": 0
      },
      "text/plain": [
       "HBox(children=(IntProgress(value=0, description='Computing ratemaps', max=20, style=ProgressStyle(description_…"
      ]
     },
     "metadata": {
      "tags": []
     },
     "output_type": "display_data"
    },
    {
     "data": {
      "application/vnd.jupyter.widget-view+json": {
       "model_id": "5475a3158a1f4f91ab9c92807c66eec5",
       "version_major": 2,
       "version_minor": 0
      },
      "text/plain": [
       "HBox(children=(IntProgress(value=0, max=10000), HTML(value='')))"
      ]
     },
     "metadata": {
      "tags": []
     },
     "output_type": "display_data"
    },
    {
     "data": {
      "application/vnd.jupyter.widget-view+json": {
       "model_id": "62227d51487b407c8043be90eb5d7a4e",
       "version_major": 2,
       "version_minor": 0
      },
      "text/plain": [
       "HBox(children=(IntProgress(value=0, description='Computing ratemaps', max=20, style=ProgressStyle(description_…"
      ]
     },
     "metadata": {
      "tags": []
     },
     "output_type": "display_data"
    },
    {
     "data": {
      "application/vnd.jupyter.widget-view+json": {
       "model_id": "e11720ccf77b47e5ac597b0a62fcf4aa",
       "version_major": 2,
       "version_minor": 0
      },
      "text/plain": [
       "HBox(children=(IntProgress(value=0, max=10000), HTML(value='')))"
      ]
     },
     "metadata": {
      "tags": []
     },
     "output_type": "display_data"
    },
    {
     "name": "stdout",
     "output_type": "stream",
     "text": [
      "Buffered data was truncated after reaching the output size limit."
     ]
    }
   ],
   "source": [
    "trainer.train(n_epochs=10, n_steps=10000, save=True)\n",
    "\n",
    "plt.figure(figsize=(12,3))\n",
    "plt.subplot(121)\n",
    "plt.plot(trainer.err, c='black')\n",
    "\n",
    "plt.title('Decoding error (m)'); plt.xlabel('train step')\n",
    "plt.subplot(122)\n",
    "plt.plot(trainer.loss, c='black');\n",
    "plt.title('Loss'); plt.xlabel('train step')\n",
    "plt.savefig(options.save_dir + \"/\" + options.run_ID + \"/err.png\")"
   ]
  }
 ],
 "metadata": {
  "accelerator": "GPU",
  "colab": {
   "authorship_tag": "ABX9TyOwQy1FpDA7eZE4n6vB7dXJ",
   "collapsed_sections": [],
   "mount_file_id": "1l5ZKWjug7suTFJKy-glNzjTMRAoEdJSy",
   "name": "Model train.ipynb",
   "provenance": []
  },
  "kernelspec": {
   "display_name": "Python 3",
   "language": "python",
   "name": "python3"
  },
  "language_info": {
   "codemirror_mode": {
    "name": "ipython",
    "version": 3
   },
   "file_extension": ".py",
   "mimetype": "text/x-python",
   "name": "python",
   "nbconvert_exporter": "python",
   "pygments_lexer": "ipython3",
   "version": "3.7.6"
  },
  "widgets": {
   "application/vnd.jupyter.widget-state+json": {
    "24cc571ddba04d5db1b26b19f0557652": {
     "model_module": "@jupyter-widgets/controls",
     "model_name": "HBoxModel",
     "state": {
      "_dom_classes": [],
      "_model_module": "@jupyter-widgets/controls",
      "_model_module_version": "1.5.0",
      "_model_name": "HBoxModel",
      "_view_count": null,
      "_view_module": "@jupyter-widgets/controls",
      "_view_module_version": "1.5.0",
      "_view_name": "HBoxView",
      "box_style": "",
      "children": [
       "IPY_MODEL_f17d001370874974b0f481db62113362",
       "IPY_MODEL_a2cf85304b324062a218074e7801e293"
      ],
      "layout": "IPY_MODEL_54548f2be065426782b2fce80960dd9c"
     }
    }
   }
  }
 },
 "nbformat": 4,
 "nbformat_minor": 4
}
