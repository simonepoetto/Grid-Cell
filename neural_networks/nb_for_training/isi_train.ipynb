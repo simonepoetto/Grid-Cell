{
 "cells": [
  {
   "cell_type": "code",
   "execution_count": 1,
   "metadata": {},
   "outputs": [
    {
     "name": "stdout",
     "output_type": "stream",
     "text": [
      "Found GPU at: /device:GPU:0\n"
     ]
    }
   ],
   "source": [
    "import tensorflow as tf\n",
    "device_name = tf.test.gpu_device_name()\n",
    "if device_name != '/device:GPU:0':\n",
    "    raise SystemError('GPU device not found')\n",
    "print('Found GPU at: {}'.format(device_name))\n",
    "\n",
    "import numpy as np\n",
    "import sys\n",
    "\n",
    "from tqdm import tqdm_notebook as tqdm\n",
    "from matplotlib import pyplot as plt"
   ]
  },
  {
   "cell_type": "code",
   "execution_count": 2,
   "metadata": {},
   "outputs": [],
   "source": [
    "from utils import generate_run_ID, load_trained_weights\n",
    "from place_cells import PlaceCells\n",
    "from trajectory_generator import TrajectoryGenerator\n",
    "from model import RNN, LSTM\n",
    "from trainer import Trainer"
   ]
  },
  {
   "cell_type": "code",
   "execution_count": 5,
   "metadata": {},
   "outputs": [],
   "source": [
    "# Training options and hyperparameters\n",
    "class Options:\n",
    "    pass\n",
    "options = Options()\n",
    "\n",
    "options.save_dir = '/data/public/spoetto/gridcells/models_10kbatches'\n",
    "options.n_epochs = 100          # number of training epochs\n",
    "options.n_steps = 1000        # batches per epoch\n",
    "options.batch_size = 200      # number of trajectories per batch\n",
    "options.sequence_length = 15  # number of steps in trajectory\n",
    "options.learning_rate = 1e-4  # gradient descent learning rate\n",
    "options.Np = 512              # number of place cells\n",
    "options.Ng = 512             # number of grid cells\n",
    "options.place_cell_rf = 0.12  # width of place cell center tuning curve (m)\n",
    "options.surround_scale = 2    # if DoG, ratio of sigma2^2 to sigma1^2\n",
    "options.RNN_type = 'RNN'      # RNN or LSTM\n",
    "options.activation = 'relu'   # recurrent nonlinearity\n",
    "options.weight_decay = 1e-4   # strength of weight decay on recurrent weights\n",
    "options.DoG = True            # use difference of gaussians tuning curves\n",
    "options.topology = 'klein'    # plane, torus or klein\n",
    "options.box_width = 2.2       # width of training environment\n",
    "options.box_height = 2.2      # height of training environment\n",
    "\n",
    "options.run_ID = generate_run_ID(options)"
   ]
  },
  {
   "cell_type": "code",
   "execution_count": 6,
   "metadata": {},
   "outputs": [
    {
     "name": "stdout",
     "output_type": "stream",
     "text": [
      "Initializing new model from scratch.\n"
     ]
    }
   ],
   "source": [
    "place_cells = PlaceCells(options)\n",
    "model = RNN(options, place_cells)\n",
    "trajectory_generator = TrajectoryGenerator(options, place_cells)\n",
    "trainer = Trainer(options, model, trajectory_generator)"
   ]
  },
  {
   "cell_type": "code",
   "execution_count": null,
   "metadata": {},
   "outputs": [
    {
     "data": {
      "application/vnd.jupyter.widget-view+json": {
       "model_id": "3c340f098e774509b9f3e807b9868f5a",
       "version_major": 2,
       "version_minor": 0
      },
      "text/plain": [
       "HBox(children=(FloatProgress(value=0.0), HTML(value='')))"
      ]
     },
     "metadata": {},
     "output_type": "display_data"
    },
    {
     "data": {
      "application/vnd.jupyter.widget-view+json": {
       "model_id": "8f7c0b3acbc94385bd07e18d58ec1ed7",
       "version_major": 2,
       "version_minor": 0
      },
      "text/plain": [
       "HBox(children=(FloatProgress(value=0.0, max=1000.0), HTML(value='')))"
      ]
     },
     "metadata": {},
     "output_type": "display_data"
    },
    {
     "name": "stdout",
     "output_type": "stream",
     "text": [
      "WARNING:tensorflow:Layer encoder is casting an input tensor from dtype float64 to the layer's dtype of float32, which is new behavior in TensorFlow 2.  The layer has dtype float32 because it's dtype defaults to floatx.\n",
      "\n",
      "If you intended to run this layer in float32, you can safely ignore this warning. If in doubt, this warning is likely only an issue if you are porting a TensorFlow 1.X model to TensorFlow 2.\n",
      "\n",
      "To change all layers to have dtype float64 by default, call `tf.keras.backend.set_floatx('float64')`. To change just this layer, pass dtype='float64' to the layer constructor. If you are the author of this layer, you can disable autocasting by passing autocast=False to the base Layer constructor.\n",
      "\n",
      "WARNING:tensorflow:Layer RNN is casting an input tensor from dtype float64 to the layer's dtype of float32, which is new behavior in TensorFlow 2.  The layer has dtype float32 because it's dtype defaults to floatx.\n",
      "\n",
      "If you intended to run this layer in float32, you can safely ignore this warning. If in doubt, this warning is likely only an issue if you are porting a TensorFlow 1.X model to TensorFlow 2.\n",
      "\n",
      "To change all layers to have dtype float64 by default, call `tf.keras.backend.set_floatx('float64')`. To change just this layer, pass dtype='float64' to the layer constructor. If you are the author of this layer, you can disable autocasting by passing autocast=False to the base Layer constructor.\n",
      "\n"
     ]
    }
   ],
   "source": [
    "trainer.train(n_epochs=100, n_steps=1000, save=True)"
   ]
  },
  {
   "cell_type": "code",
   "execution_count": null,
   "metadata": {},
   "outputs": [],
   "source": []
  }
 ],
 "metadata": {
  "kernelspec": {
   "display_name": "Python 3",
   "language": "python",
   "name": "python3"
  },
  "language_info": {
   "codemirror_mode": {
    "name": "ipython",
    "version": 3
   },
   "file_extension": ".py",
   "mimetype": "text/x-python",
   "name": "python",
   "nbconvert_exporter": "python",
   "pygments_lexer": "ipython3",
   "version": "3.7.7"
  }
 },
 "nbformat": 4,
 "nbformat_minor": 4
}
