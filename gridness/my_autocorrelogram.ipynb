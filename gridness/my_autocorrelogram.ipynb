{
 "cells": [
  {
   "cell_type": "code",
   "execution_count": 1,
   "metadata": {},
   "outputs": [],
   "source": [
    "import numpy as np\n",
    "from scipy.stats import pearsonr\n",
    "import matplotlib.pyplot as plt"
   ]
  },
  {
   "cell_type": "code",
   "execution_count": 2,
   "metadata": {},
   "outputs": [],
   "source": [
    "ratemaps= np.load('../data/activations512.npy')"
   ]
  },
  {
   "cell_type": "code",
   "execution_count": 3,
   "metadata": {},
   "outputs": [
    {
     "data": {
      "text/plain": [
       "<matplotlib.image.AxesImage at 0x7fd2db9eb850>"
      ]
     },
     "execution_count": 3,
     "metadata": {},
     "output_type": "execute_result"
    },
    {
     "data": {
      "image/png": "[encoded data removed]",
      "text/plain": [
       "<Figure size 432x288 with 1 Axes>"
      ]
     },
     "metadata": {
      "needs_background": "light"
     },
     "output_type": "display_data"
    }
   ],
   "source": [
    "idx = 0\n",
    "plt.imshow(ratemaps[idx])"
   ]
  },
  {
   "cell_type": "code",
   "execution_count": 4,
   "metadata": {},
   "outputs": [],
   "source": [
    "def my_calculate_sac(rm,mask=1):\n",
    "    \n",
    "    #define sac dim\n",
    "    l = int(rm.shape[0]*mask)\n",
    "    sac = np.zeros((l-1,l-1))\n",
    "    sh = (l-1)//2\n",
    "    \n",
    "    for i in range(-sh,sh+1):\n",
    "        for j in range(-sh,sh+1):\n",
    "            #shift ratemap\n",
    "            shift = np.roll(np.roll(rm,i,axis=0),j,axis=1)\n",
    "            \n",
    "            #get row and column to remove\n",
    "            if i == 0:\n",
    "                sx = slice(None)\n",
    "            elif i > 0:\n",
    "                sx = slice(i,None)\n",
    "            else:\n",
    "                sx = slice(None,i)\n",
    "            if j == 0:\n",
    "                sy = slice(None)\n",
    "            elif j > 0:\n",
    "                sy = slice(j,None)\n",
    "            else:\n",
    "                sy = slice(None,j)\n",
    "                \n",
    "            rmr = rm[sx,sy]\n",
    "            shiftr = shift[sx,sy]\n",
    "            \n",
    "            #calculate pearson correlation coefficient between flatten matrix\n",
    "            rmf = np.ndarray.flatten(rmr)\n",
    "            shiftf = np.ndarray.flatten(shiftr)\n",
    "            \n",
    "            pr = pearsonr(rmf,shiftf)\n",
    "            \n",
    "            sac[(l-1)//2+i,(l-1)//2+j]=pr[0]\n",
    "\n",
    "    return sac"
   ]
  },
  {
   "cell_type": "code",
   "execution_count": 5,
   "metadata": {},
   "outputs": [
    {
     "data": {
      "text/plain": [
       "<matplotlib.image.AxesImage at 0x7fd2db9265d0>"
      ]
     },
     "execution_count": 5,
     "metadata": {},
     "output_type": "execute_result"
    },
    {
     "data": {
      "image/png": "[encoded data removed]",
      "text/plain": [
       "<Figure size 432x288 with 1 Axes>"
      ]
     },
     "metadata": {
      "needs_background": "light"
     },
     "output_type": "display_data"
    }
   ],
   "source": [
    "sac = my_calculate_sac(ratemaps[0],mask=1)\n",
    "plt.imshow(sac)"
   ]
  }
 ],
 "metadata": {
  "kernelspec": {
   "display_name": "Python 3",
   "language": "python",
   "name": "python3"
  },
  "language_info": {
   "codemirror_mode": {
    "name": "ipython",
    "version": 3
   },
   "file_extension": ".py",
   "mimetype": "text/x-python",
   "name": "python",
   "nbconvert_exporter": "python",
   "pygments_lexer": "ipython3",
   "version": "3.7.6"
  }
 },
 "nbformat": 4,
 "nbformat_minor": 4
}
